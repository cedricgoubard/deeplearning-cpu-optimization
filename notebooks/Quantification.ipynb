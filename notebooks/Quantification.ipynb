{
 "cells": [
  {
   "cell_type": "code",
   "execution_count": 1,
   "metadata": {},
   "outputs": [
    {
     "name": "stderr",
     "output_type": "stream",
     "text": [
      "Using TensorFlow backend.\n"
     ]
    }
   ],
   "source": [
    "import numpy as np\n",
    "import tensorflow as tf\n",
    "from tensorflow import keras\n",
    "from keras.datasets import mnist\n",
    "\n",
    "#Load dataset as train and test sets\n",
    "(x_train, y_train), (x_test, y_test) = mnist.load_data()"
   ]
  },
  {
   "cell_type": "code",
   "execution_count": 4,
   "metadata": {},
   "outputs": [
    {
     "name": "stdout",
     "output_type": "stream",
     "text": [
      "60000 train samples\n",
      "10000 test samples\n"
     ]
    }
   ],
   "source": [
    "x_train = x_train.reshape(60000, 784)\n",
    "x_test = x_test.reshape(10000, 784)\n",
    "x_train = x_train.astype('float32')\n",
    "x_test = x_test.astype('float32')\n",
    "x_train /= 255\n",
    "x_test /= 255\n",
    "print(x_train.shape[0], 'train samples')\n",
    "print(x_test.shape[0], 'test samples')\n",
    "num_classes = 10\n",
    "# convert class vectors to binary class matrices\n",
    "y_train = keras.utils.to_categorical(y_train, num_classes)\n",
    "y_test = keras.utils.to_categorical(y_test, num_classes)"
   ]
  },
  {
   "cell_type": "code",
   "execution_count": 7,
   "metadata": {},
   "outputs": [
    {
     "name": "stdout",
     "output_type": "stream",
     "text": [
      "Model: \"sequential\"\n",
      "_________________________________________________________________\n",
      "Layer (type)                 Output Shape              Param #   \n",
      "=================================================================\n",
      "dropout (Dropout)            (None, 784)               0         \n",
      "_________________________________________________________________\n",
      "dense (Dense)                (None, 1000)              785000    \n",
      "_________________________________________________________________\n",
      "dropout_1 (Dropout)          (None, 1000)              0         \n",
      "_________________________________________________________________\n",
      "dense_1 (Dense)              (None, 1000)              1001000   \n",
      "_________________________________________________________________\n",
      "dropout_2 (Dropout)          (None, 1000)              0         \n",
      "_________________________________________________________________\n",
      "dense_2 (Dense)              (None, 10)                10010     \n",
      "=================================================================\n",
      "Total params: 1,796,010\n",
      "Trainable params: 1,796,010\n",
      "Non-trainable params: 0\n",
      "_________________________________________________________________\n"
     ]
    }
   ],
   "source": [
    "from tensorflow.keras.models import Sequential\n",
    "from tensorflow.keras import models, layers\n",
    "from tensorflow.keras import regularizers\n",
    "model = Sequential()\n",
    "model.add(layers.Dropout(0.2,input_shape=(784,)))\n",
    "model.add(layers.Dense(1000,\n",
    "                        kernel_regularizer = regularizers.l2(0.01),\n",
    "                        activation='relu'))\n",
    "model.add(layers.Dropout(0.5))\n",
    "model.add(layers.Dense(1000,\n",
    "                        kernel_regularizer = regularizers.l2(0.01),\n",
    "                        activation='relu'))\n",
    "model.add(layers.Dropout(0.5))\n",
    "model.add(layers.Dense(10,  activation='softmax'))\n",
    "#display the model summary\n",
    "model.summary()"
   ]
  },
  {
   "cell_type": "code",
   "execution_count": 8,
   "metadata": {},
   "outputs": [],
   "source": [
    "model.compile(loss=keras.losses.categorical_crossentropy, \n",
    "              optimizer='adam', \n",
    "              metrics=['accuracy'])"
   ]
  },
  {
   "cell_type": "code",
   "execution_count": 9,
   "metadata": {},
   "outputs": [
    {
     "name": "stdout",
     "output_type": "stream",
     "text": [
      "Epoch 1/100\n",
      "469/469 [==============================] - 4s 9ms/step - loss: 2.0577 - accuracy: 0.8565 - val_loss: 0.7051 - val_accuracy: 0.9175\n",
      "Epoch 2/100\n",
      "469/469 [==============================] - 4s 9ms/step - loss: 0.7612 - accuracy: 0.8930 - val_loss: 0.6555 - val_accuracy: 0.9185\n",
      "Epoch 3/100\n",
      "469/469 [==============================] - 4s 9ms/step - loss: 0.7241 - accuracy: 0.8984 - val_loss: 0.5948 - val_accuracy: 0.9409\n",
      "Epoch 4/100\n",
      "469/469 [==============================] - 4s 9ms/step - loss: 0.7125 - accuracy: 0.9011 - val_loss: 0.5927 - val_accuracy: 0.9377\n",
      "Epoch 5/100\n",
      "469/469 [==============================] - 4s 9ms/step - loss: 0.6867 - accuracy: 0.9046 - val_loss: 0.5666 - val_accuracy: 0.9475\n",
      "Epoch 6/100\n",
      "469/469 [==============================] - 4s 9ms/step - loss: 0.6799 - accuracy: 0.9045 - val_loss: 0.5519 - val_accuracy: 0.9474\n",
      "Epoch 7/100\n",
      "469/469 [==============================] - 4s 9ms/step - loss: 0.6582 - accuracy: 0.9090 - val_loss: 0.5679 - val_accuracy: 0.9441\n",
      "Epoch 8/100\n",
      "469/469 [==============================] - 4s 9ms/step - loss: 0.6538 - accuracy: 0.9086 - val_loss: 0.5464 - val_accuracy: 0.9427\n",
      "Epoch 9/100\n",
      "469/469 [==============================] - 4s 9ms/step - loss: 0.6495 - accuracy: 0.9076 - val_loss: 0.5239 - val_accuracy: 0.9504\n",
      "Epoch 10/100\n",
      "469/469 [==============================] - 4s 9ms/step - loss: 0.6354 - accuracy: 0.9099 - val_loss: 0.5243 - val_accuracy: 0.9463\n",
      "Epoch 11/100\n",
      "469/469 [==============================] - 4s 9ms/step - loss: 0.6284 - accuracy: 0.9095 - val_loss: 0.5032 - val_accuracy: 0.9520\n",
      "Epoch 12/100\n",
      "469/469 [==============================] - 4s 9ms/step - loss: 0.6233 - accuracy: 0.9098 - val_loss: 0.5063 - val_accuracy: 0.9491\n",
      "Epoch 13/100\n",
      "469/469 [==============================] - 4s 9ms/step - loss: 0.6260 - accuracy: 0.9092 - val_loss: 0.4858 - val_accuracy: 0.9515\n",
      "Epoch 14/100\n",
      "469/469 [==============================] - 4s 9ms/step - loss: 0.6148 - accuracy: 0.9092 - val_loss: 0.4780 - val_accuracy: 0.9519\n",
      "Epoch 15/100\n",
      "469/469 [==============================] - 4s 9ms/step - loss: 0.6123 - accuracy: 0.9091 - val_loss: 0.4995 - val_accuracy: 0.9484\n",
      "Epoch 16/100\n",
      "469/469 [==============================] - 4s 9ms/step - loss: 0.6077 - accuracy: 0.9110 - val_loss: 0.5011 - val_accuracy: 0.9439\n",
      "Epoch 17/100\n",
      "469/469 [==============================] - 4s 9ms/step - loss: 0.6000 - accuracy: 0.9118 - val_loss: 0.4893 - val_accuracy: 0.9498\n",
      "Epoch 18/100\n",
      "469/469 [==============================] - 4s 9ms/step - loss: 0.6073 - accuracy: 0.9089 - val_loss: 0.4761 - val_accuracy: 0.9515\n",
      "Epoch 19/100\n",
      "469/469 [==============================] - 4s 9ms/step - loss: 0.5951 - accuracy: 0.9117 - val_loss: 0.4636 - val_accuracy: 0.9529\n",
      "Epoch 20/100\n",
      "469/469 [==============================] - 4s 9ms/step - loss: 0.5879 - accuracy: 0.9135 - val_loss: 0.4608 - val_accuracy: 0.9530\n",
      "Epoch 21/100\n",
      "469/469 [==============================] - 4s 9ms/step - loss: 0.5938 - accuracy: 0.9120 - val_loss: 0.4662 - val_accuracy: 0.9510\n",
      "Epoch 22/100\n",
      "469/469 [==============================] - 4s 9ms/step - loss: 0.5925 - accuracy: 0.9112 - val_loss: 0.4763 - val_accuracy: 0.9518\n",
      "Epoch 23/100\n",
      "469/469 [==============================] - 4s 9ms/step - loss: 0.5924 - accuracy: 0.9116 - val_loss: 0.4577 - val_accuracy: 0.9546\n",
      "Epoch 24/100\n",
      "469/469 [==============================] - 4s 9ms/step - loss: 0.5860 - accuracy: 0.9135 - val_loss: 0.4466 - val_accuracy: 0.9531\n",
      "Epoch 25/100\n",
      "469/469 [==============================] - 4s 9ms/step - loss: 0.5854 - accuracy: 0.9113 - val_loss: 0.4664 - val_accuracy: 0.9488\n",
      "Epoch 26/100\n",
      "469/469 [==============================] - 4s 9ms/step - loss: 0.5853 - accuracy: 0.9098 - val_loss: 0.4373 - val_accuracy: 0.9584\n",
      "Epoch 27/100\n",
      "469/469 [==============================] - 4s 9ms/step - loss: 0.5826 - accuracy: 0.9116 - val_loss: 0.4721 - val_accuracy: 0.9456\n",
      "Epoch 28/100\n",
      "469/469 [==============================] - 4s 9ms/step - loss: 0.5774 - accuracy: 0.9129 - val_loss: 0.4492 - val_accuracy: 0.9519\n",
      "Epoch 29/100\n",
      "469/469 [==============================] - 4s 9ms/step - loss: 0.5815 - accuracy: 0.9099 - val_loss: 0.4505 - val_accuracy: 0.9458\n",
      "Epoch 30/100\n",
      "469/469 [==============================] - 4s 9ms/step - loss: 0.5844 - accuracy: 0.9103 - val_loss: 0.4343 - val_accuracy: 0.9552\n",
      "Epoch 31/100\n",
      "469/469 [==============================] - 4s 9ms/step - loss: 0.5784 - accuracy: 0.9117 - val_loss: 0.4405 - val_accuracy: 0.9509\n",
      "Epoch 32/100\n",
      "469/469 [==============================] - 4s 9ms/step - loss: 0.5729 - accuracy: 0.9121 - val_loss: 0.4496 - val_accuracy: 0.9514\n",
      "Epoch 33/100\n",
      "469/469 [==============================] - 4s 9ms/step - loss: 0.5759 - accuracy: 0.9108 - val_loss: 0.4253 - val_accuracy: 0.9560\n",
      "Epoch 34/100\n",
      "469/469 [==============================] - 4s 9ms/step - loss: 0.5729 - accuracy: 0.9125 - val_loss: 0.4422 - val_accuracy: 0.9548\n",
      "Epoch 35/100\n",
      "469/469 [==============================] - 4s 9ms/step - loss: 0.5768 - accuracy: 0.9111 - val_loss: 0.4292 - val_accuracy: 0.9557\n",
      "Epoch 36/100\n",
      "469/469 [==============================] - 4s 9ms/step - loss: 0.5798 - accuracy: 0.9104 - val_loss: 0.4512 - val_accuracy: 0.9538\n",
      "Epoch 37/100\n",
      "469/469 [==============================] - 4s 9ms/step - loss: 0.5715 - accuracy: 0.9117 - val_loss: 0.4304 - val_accuracy: 0.9537\n",
      "Epoch 38/100\n",
      "469/469 [==============================] - 4s 9ms/step - loss: 0.5736 - accuracy: 0.9108 - val_loss: 0.4321 - val_accuracy: 0.9542\n",
      "Epoch 39/100\n",
      "469/469 [==============================] - 4s 9ms/step - loss: 0.5648 - accuracy: 0.9132 - val_loss: 0.4562 - val_accuracy: 0.9461\n",
      "Epoch 40/100\n",
      "469/469 [==============================] - 4s 9ms/step - loss: 0.5753 - accuracy: 0.9103 - val_loss: 0.4349 - val_accuracy: 0.9556\n",
      "Epoch 41/100\n",
      "469/469 [==============================] - 4s 9ms/step - loss: 0.5728 - accuracy: 0.9110 - val_loss: 0.4316 - val_accuracy: 0.9544\n",
      "Epoch 42/100\n",
      "469/469 [==============================] - 4s 9ms/step - loss: 0.5634 - accuracy: 0.9128 - val_loss: 0.4326 - val_accuracy: 0.9542\n",
      "Epoch 43/100\n",
      "469/469 [==============================] - 4s 9ms/step - loss: 0.5662 - accuracy: 0.9113 - val_loss: 0.4455 - val_accuracy: 0.9478\n",
      "Epoch 44/100\n",
      "469/469 [==============================] - 4s 9ms/step - loss: 0.5654 - accuracy: 0.9125 - val_loss: 0.4114 - val_accuracy: 0.9565\n",
      "Epoch 45/100\n",
      "469/469 [==============================] - 4s 9ms/step - loss: 0.5654 - accuracy: 0.9111 - val_loss: 0.4382 - val_accuracy: 0.9490\n",
      "Epoch 46/100\n",
      "469/469 [==============================] - 4s 9ms/step - loss: 0.5659 - accuracy: 0.9114 - val_loss: 0.4145 - val_accuracy: 0.9599\n",
      "Epoch 47/100\n",
      "469/469 [==============================] - 4s 9ms/step - loss: 0.5582 - accuracy: 0.9123 - val_loss: 0.4188 - val_accuracy: 0.9553\n",
      "Epoch 48/100\n",
      "469/469 [==============================] - 4s 9ms/step - loss: 0.5644 - accuracy: 0.9110 - val_loss: 0.4336 - val_accuracy: 0.9500\n",
      "Epoch 49/100\n",
      "469/469 [==============================] - 4s 9ms/step - loss: 0.5644 - accuracy: 0.9106 - val_loss: 0.4170 - val_accuracy: 0.9553\n",
      "Epoch 50/100\n",
      "469/469 [==============================] - 4s 9ms/step - loss: 0.5541 - accuracy: 0.9119 - val_loss: 0.4281 - val_accuracy: 0.9540\n",
      "Epoch 51/100\n",
      "469/469 [==============================] - 4s 9ms/step - loss: 0.5582 - accuracy: 0.9109 - val_loss: 0.4328 - val_accuracy: 0.9533\n",
      "Epoch 52/100\n",
      "469/469 [==============================] - 4s 9ms/step - loss: 0.5637 - accuracy: 0.9106 - val_loss: 0.4052 - val_accuracy: 0.9603\n",
      "Epoch 53/100\n",
      "469/469 [==============================] - 4s 9ms/step - loss: 0.5581 - accuracy: 0.9118 - val_loss: 0.4281 - val_accuracy: 0.9561\n",
      "Epoch 54/100\n",
      "469/469 [==============================] - 4s 9ms/step - loss: 0.5596 - accuracy: 0.9112 - val_loss: 0.4257 - val_accuracy: 0.9545\n",
      "Epoch 55/100\n",
      "469/469 [==============================] - 4s 9ms/step - loss: 0.5605 - accuracy: 0.9105 - val_loss: 0.4140 - val_accuracy: 0.9549\n",
      "Epoch 56/100\n",
      "469/469 [==============================] - 4s 9ms/step - loss: 0.5496 - accuracy: 0.9129 - val_loss: 0.4164 - val_accuracy: 0.9558\n",
      "Epoch 57/100\n",
      "469/469 [==============================] - 4s 9ms/step - loss: 0.5588 - accuracy: 0.9117 - val_loss: 0.4186 - val_accuracy: 0.9526\n"
     ]
    },
    {
     "name": "stdout",
     "output_type": "stream",
     "text": [
      "Epoch 58/100\n",
      "469/469 [==============================] - 4s 9ms/step - loss: 0.5553 - accuracy: 0.9114 - val_loss: 0.4236 - val_accuracy: 0.9526\n",
      "Epoch 59/100\n",
      "469/469 [==============================] - 4s 9ms/step - loss: 0.5540 - accuracy: 0.9118 - val_loss: 0.4328 - val_accuracy: 0.9479\n",
      "Epoch 60/100\n",
      "469/469 [==============================] - 4s 9ms/step - loss: 0.5577 - accuracy: 0.9115 - val_loss: 0.4194 - val_accuracy: 0.9528\n",
      "Epoch 61/100\n",
      "469/469 [==============================] - 4s 9ms/step - loss: 0.5546 - accuracy: 0.9113 - val_loss: 0.4168 - val_accuracy: 0.9602\n",
      "Epoch 62/100\n",
      "469/469 [==============================] - 4s 9ms/step - loss: 0.5579 - accuracy: 0.9109 - val_loss: 0.4170 - val_accuracy: 0.9572\n",
      "Epoch 63/100\n",
      "469/469 [==============================] - 4s 9ms/step - loss: 0.5527 - accuracy: 0.9116 - val_loss: 0.4116 - val_accuracy: 0.9568\n",
      "Epoch 64/100\n",
      "469/469 [==============================] - 4s 9ms/step - loss: 0.5570 - accuracy: 0.9111 - val_loss: 0.4206 - val_accuracy: 0.9516\n",
      "Epoch 65/100\n",
      "469/469 [==============================] - 4s 9ms/step - loss: 0.5491 - accuracy: 0.9111 - val_loss: 0.4391 - val_accuracy: 0.9464\n",
      "Epoch 66/100\n",
      "469/469 [==============================] - 4s 9ms/step - loss: 0.5530 - accuracy: 0.9109 - val_loss: 0.4256 - val_accuracy: 0.9503\n",
      "Epoch 67/100\n",
      "469/469 [==============================] - 4s 9ms/step - loss: 0.5521 - accuracy: 0.9115 - val_loss: 0.4136 - val_accuracy: 0.9522\n",
      "Epoch 68/100\n",
      "469/469 [==============================] - 4s 9ms/step - loss: 0.5430 - accuracy: 0.9118 - val_loss: 0.4271 - val_accuracy: 0.9470\n",
      "Epoch 69/100\n",
      "469/469 [==============================] - 4s 9ms/step - loss: 0.5504 - accuracy: 0.9119 - val_loss: 0.4143 - val_accuracy: 0.9535\n",
      "Epoch 70/100\n",
      "469/469 [==============================] - 4s 9ms/step - loss: 0.5487 - accuracy: 0.9126 - val_loss: 0.4044 - val_accuracy: 0.9581\n",
      "Epoch 71/100\n",
      "469/469 [==============================] - 4s 9ms/step - loss: 0.5503 - accuracy: 0.9126 - val_loss: 0.4086 - val_accuracy: 0.9568\n",
      "Epoch 72/100\n",
      "469/469 [==============================] - 4s 9ms/step - loss: 0.5547 - accuracy: 0.9111 - val_loss: 0.4239 - val_accuracy: 0.9510\n",
      "Epoch 73/100\n",
      "469/469 [==============================] - 4s 9ms/step - loss: 0.5470 - accuracy: 0.9128 - val_loss: 0.4027 - val_accuracy: 0.9547\n",
      "Epoch 74/100\n",
      "469/469 [==============================] - 4s 9ms/step - loss: 0.5453 - accuracy: 0.9125 - val_loss: 0.4078 - val_accuracy: 0.9549\n",
      "Epoch 75/100\n",
      "469/469 [==============================] - 4s 9ms/step - loss: 0.5487 - accuracy: 0.9116 - val_loss: 0.4061 - val_accuracy: 0.9583\n",
      "Epoch 76/100\n",
      "469/469 [==============================] - 4s 9ms/step - loss: 0.5496 - accuracy: 0.9110 - val_loss: 0.4126 - val_accuracy: 0.9501\n",
      "Epoch 77/100\n",
      "469/469 [==============================] - 4s 9ms/step - loss: 0.5467 - accuracy: 0.9125 - val_loss: 0.4066 - val_accuracy: 0.9549\n",
      "Epoch 78/100\n",
      "469/469 [==============================] - 4s 9ms/step - loss: 0.5484 - accuracy: 0.9109 - val_loss: 0.4154 - val_accuracy: 0.9526\n",
      "Epoch 79/100\n",
      "469/469 [==============================] - 4s 9ms/step - loss: 0.5528 - accuracy: 0.9118 - val_loss: 0.4229 - val_accuracy: 0.9481\n",
      "Epoch 80/100\n",
      "469/469 [==============================] - 4s 9ms/step - loss: 0.5558 - accuracy: 0.9097 - val_loss: 0.4127 - val_accuracy: 0.9556\n",
      "Epoch 81/100\n",
      "469/469 [==============================] - 4s 9ms/step - loss: 0.5526 - accuracy: 0.9110 - val_loss: 0.4141 - val_accuracy: 0.9540\n",
      "Epoch 82/100\n",
      "469/469 [==============================] - 4s 9ms/step - loss: 0.5496 - accuracy: 0.9093 - val_loss: 0.4075 - val_accuracy: 0.9560\n",
      "Epoch 83/100\n",
      "469/469 [==============================] - 4s 9ms/step - loss: 0.5585 - accuracy: 0.9080 - val_loss: 0.4122 - val_accuracy: 0.9515\n",
      "Epoch 84/100\n",
      "469/469 [==============================] - 4s 9ms/step - loss: 0.5502 - accuracy: 0.9096 - val_loss: 0.4207 - val_accuracy: 0.9531\n",
      "Epoch 85/100\n",
      "469/469 [==============================] - 4s 9ms/step - loss: 0.5468 - accuracy: 0.9111 - val_loss: 0.4151 - val_accuracy: 0.9510\n",
      "Epoch 86/100\n",
      "469/469 [==============================] - 4s 9ms/step - loss: 0.5454 - accuracy: 0.9113 - val_loss: 0.4127 - val_accuracy: 0.9537\n",
      "Epoch 87/100\n",
      "469/469 [==============================] - 4s 9ms/step - loss: 0.5476 - accuracy: 0.9110 - val_loss: 0.4046 - val_accuracy: 0.9578\n",
      "Epoch 88/100\n",
      "469/469 [==============================] - 4s 9ms/step - loss: 0.5492 - accuracy: 0.9103 - val_loss: 0.3917 - val_accuracy: 0.9566\n",
      "Epoch 89/100\n",
      "469/469 [==============================] - 4s 9ms/step - loss: 0.5441 - accuracy: 0.9103 - val_loss: 0.4144 - val_accuracy: 0.9528\n",
      "Epoch 90/100\n",
      "469/469 [==============================] - 4s 9ms/step - loss: 0.5439 - accuracy: 0.9104 - val_loss: 0.3886 - val_accuracy: 0.9579\n",
      "Epoch 91/100\n",
      "469/469 [==============================] - 4s 9ms/step - loss: 0.5436 - accuracy: 0.9107 - val_loss: 0.4066 - val_accuracy: 0.9526\n",
      "Epoch 92/100\n",
      "469/469 [==============================] - 4s 9ms/step - loss: 0.5477 - accuracy: 0.9092 - val_loss: 0.4071 - val_accuracy: 0.9569\n",
      "Epoch 93/100\n",
      "469/469 [==============================] - 4s 9ms/step - loss: 0.5452 - accuracy: 0.9103 - val_loss: 0.3929 - val_accuracy: 0.9552\n",
      "Epoch 94/100\n",
      "469/469 [==============================] - 4s 9ms/step - loss: 0.5472 - accuracy: 0.9092 - val_loss: 0.4040 - val_accuracy: 0.9553\n",
      "Epoch 95/100\n",
      "469/469 [==============================] - 4s 9ms/step - loss: 0.5413 - accuracy: 0.9105 - val_loss: 0.3948 - val_accuracy: 0.9563\n",
      "Epoch 96/100\n",
      "469/469 [==============================] - 4s 9ms/step - loss: 0.5393 - accuracy: 0.9114 - val_loss: 0.3989 - val_accuracy: 0.9572\n",
      "Epoch 97/100\n",
      "469/469 [==============================] - 4s 9ms/step - loss: 0.5446 - accuracy: 0.9103 - val_loss: 0.4019 - val_accuracy: 0.9532\n",
      "Epoch 98/100\n",
      "469/469 [==============================] - 4s 9ms/step - loss: 0.5374 - accuracy: 0.9128 - val_loss: 0.4060 - val_accuracy: 0.9567\n",
      "Epoch 99/100\n",
      "469/469 [==============================] - 4s 9ms/step - loss: 0.5430 - accuracy: 0.9124 - val_loss: 0.4094 - val_accuracy: 0.9516\n",
      "Epoch 100/100\n",
      "469/469 [==============================] - 4s 9ms/step - loss: 0.5453 - accuracy: 0.9107 - val_loss: 0.3954 - val_accuracy: 0.9578\n"
     ]
    }
   ],
   "source": [
    "hist = model.fit(x_train, y_train,\n",
    "                        batch_size=128,\n",
    "                        epochs=100,\n",
    "                        verbose=1,\n",
    "                        validation_data=(x_test,y_test))"
   ]
  },
  {
   "cell_type": "code",
   "execution_count": 10,
   "metadata": {},
   "outputs": [
    {
     "name": "stdout",
     "output_type": "stream",
     "text": [
      "313/313 [==============================] - 1s 2ms/step - loss: 0.3954 - accuracy: 0.9578\n",
      "Test loss 0.3954, accuracy 95.78%\n"
     ]
    }
   ],
   "source": [
    "score = model.evaluate(x_test, y_test, verbose=1)\n",
    "print(\"Test loss {:.4f}, accuracy {:.2f}%\".format(score[0], score[1] * 100))"
   ]
  },
  {
   "cell_type": "code",
   "execution_count": 11,
   "metadata": {},
   "outputs": [
    {
     "name": "stdout",
     "output_type": "stream",
     "text": [
      "Saved model to disk\n"
     ]
    }
   ],
   "source": [
    "#Save the entire model in model.h5 file\n",
    "model.save(\"models/medium_model.h5\")\n",
    "print(\"Saved model to disk\")"
   ]
  },
  {
   "cell_type": "code",
   "execution_count": 12,
   "metadata": {},
   "outputs": [
    {
     "data": {
      "text/plain": [
       "7185724"
      ]
     },
     "execution_count": 12,
     "metadata": {},
     "output_type": "execute_result"
    }
   ],
   "source": [
    "model = tf.keras.models.load_model('models/medium_model.h5')\n",
    "converter = tf.lite.TFLiteConverter.from_keras_model(model)\n",
    "tflite_model = converter.convert()\n",
    "#saving converted model in \"converted_model.tflite\" file\n",
    "open(\"models/medium_converted_model.tflite\", \"wb\").write(tflite_model)"
   ]
  },
  {
   "cell_type": "code",
   "execution_count": 13,
   "metadata": {},
   "outputs": [
    {
     "data": {
      "text/plain": [
       "1803984"
      ]
     },
     "execution_count": 13,
     "metadata": {},
     "output_type": "execute_result"
    }
   ],
   "source": [
    "model = tf.keras.models.load_model('models/medium_model.h5')\n",
    "converter = tf.lite.TFLiteConverter.from_keras_model(model)\n",
    "converter.optimizations = [tf.lite.Optimize.DEFAULT]\n",
    "tflite_quant_model = converter.convert()\n",
    "#saving converted model in \"converted_quant_model.tflite\" file\n",
    "open(\"models/medium_converted_quant_model.tflite\", \"wb\").write(tflite_quant_model)"
   ]
  },
  {
   "cell_type": "code",
   "execution_count": 15,
   "metadata": {},
   "outputs": [
    {
     "ename": "OSError",
     "evalue": "SavedModel file does not exist at: models/medium_converted_model.tflite/{saved_model.pbtxt|saved_model.pb}",
     "output_type": "error",
     "traceback": [
      "\u001b[0;31m---------------------------------------------------------------------------\u001b[0m",
      "\u001b[0;31mOSError\u001b[0m                                   Traceback (most recent call last)",
      "\u001b[0;32m<ipython-input-15-629316d875e5>\u001b[0m in \u001b[0;36m<module>\u001b[0;34m\u001b[0m\n\u001b[1;32m      1\u001b[0m \u001b[0mmodel\u001b[0m \u001b[0;34m=\u001b[0m \u001b[0mtf\u001b[0m\u001b[0;34m.\u001b[0m\u001b[0mkeras\u001b[0m\u001b[0;34m.\u001b[0m\u001b[0mmodels\u001b[0m\u001b[0;34m.\u001b[0m\u001b[0mload_model\u001b[0m\u001b[0;34m(\u001b[0m\u001b[0;34m'models/medium_model.h5'\u001b[0m\u001b[0;34m)\u001b[0m\u001b[0;34m\u001b[0m\u001b[0;34m\u001b[0m\u001b[0m\n\u001b[0;32m----> 2\u001b[0;31m \u001b[0mmodel_lite\u001b[0m \u001b[0;34m=\u001b[0m \u001b[0mtf\u001b[0m\u001b[0;34m.\u001b[0m\u001b[0mkeras\u001b[0m\u001b[0;34m.\u001b[0m\u001b[0mmodels\u001b[0m\u001b[0;34m.\u001b[0m\u001b[0mload_model\u001b[0m\u001b[0;34m(\u001b[0m\u001b[0;34m'models/medium_converted_model.tflite'\u001b[0m\u001b[0;34m)\u001b[0m\u001b[0;34m\u001b[0m\u001b[0;34m\u001b[0m\u001b[0m\n\u001b[0m",
      "\u001b[0;32m~/.local/lib/python3.6/site-packages/tensorflow/python/keras/saving/save.py\u001b[0m in \u001b[0;36mload_model\u001b[0;34m(filepath, custom_objects, compile, options)\u001b[0m\n\u001b[1;32m    184\u001b[0m     \u001b[0mfilepath\u001b[0m \u001b[0;34m=\u001b[0m \u001b[0mpath_to_string\u001b[0m\u001b[0;34m(\u001b[0m\u001b[0mfilepath\u001b[0m\u001b[0;34m)\u001b[0m\u001b[0;34m\u001b[0m\u001b[0;34m\u001b[0m\u001b[0m\n\u001b[1;32m    185\u001b[0m     \u001b[0;32mif\u001b[0m \u001b[0misinstance\u001b[0m\u001b[0;34m(\u001b[0m\u001b[0mfilepath\u001b[0m\u001b[0;34m,\u001b[0m \u001b[0msix\u001b[0m\u001b[0;34m.\u001b[0m\u001b[0mstring_types\u001b[0m\u001b[0;34m)\u001b[0m\u001b[0;34m:\u001b[0m\u001b[0;34m\u001b[0m\u001b[0;34m\u001b[0m\u001b[0m\n\u001b[0;32m--> 186\u001b[0;31m       \u001b[0mloader_impl\u001b[0m\u001b[0;34m.\u001b[0m\u001b[0mparse_saved_model\u001b[0m\u001b[0;34m(\u001b[0m\u001b[0mfilepath\u001b[0m\u001b[0;34m)\u001b[0m\u001b[0;34m\u001b[0m\u001b[0;34m\u001b[0m\u001b[0m\n\u001b[0m\u001b[1;32m    187\u001b[0m       \u001b[0;32mreturn\u001b[0m \u001b[0msaved_model_load\u001b[0m\u001b[0;34m.\u001b[0m\u001b[0mload\u001b[0m\u001b[0;34m(\u001b[0m\u001b[0mfilepath\u001b[0m\u001b[0;34m,\u001b[0m \u001b[0mcompile\u001b[0m\u001b[0;34m,\u001b[0m \u001b[0moptions\u001b[0m\u001b[0;34m)\u001b[0m\u001b[0;34m\u001b[0m\u001b[0;34m\u001b[0m\u001b[0m\n\u001b[1;32m    188\u001b[0m \u001b[0;34m\u001b[0m\u001b[0m\n",
      "\u001b[0;32m~/.local/lib/python3.6/site-packages/tensorflow/python/saved_model/loader_impl.py\u001b[0m in \u001b[0;36mparse_saved_model\u001b[0;34m(export_dir)\u001b[0m\n\u001b[1;32m    111\u001b[0m                   (export_dir,\n\u001b[1;32m    112\u001b[0m                    \u001b[0mconstants\u001b[0m\u001b[0;34m.\u001b[0m\u001b[0mSAVED_MODEL_FILENAME_PBTXT\u001b[0m\u001b[0;34m,\u001b[0m\u001b[0;34m\u001b[0m\u001b[0;34m\u001b[0m\u001b[0m\n\u001b[0;32m--> 113\u001b[0;31m                    constants.SAVED_MODEL_FILENAME_PB))\n\u001b[0m\u001b[1;32m    114\u001b[0m \u001b[0;34m\u001b[0m\u001b[0m\n\u001b[1;32m    115\u001b[0m \u001b[0;34m\u001b[0m\u001b[0m\n",
      "\u001b[0;31mOSError\u001b[0m: SavedModel file does not exist at: models/medium_converted_model.tflite/{saved_model.pbtxt|saved_model.pb}"
     ]
    }
   ],
   "source": [
    "model = tf.keras.models.load_model('models/medium_model.h5')\n",
    "model_lite = tf.keras.models.load_model('models/medium_converted_model.tflite')"
   ]
  },
  {
   "cell_type": "code",
   "execution_count": null,
   "metadata": {},
   "outputs": [],
   "source": []
  }
 ],
 "metadata": {
  "kernelspec": {
   "display_name": "tf3-env",
   "language": "python",
   "name": "tf3-env"
  },
  "language_info": {
   "codemirror_mode": {
    "name": "ipython",
    "version": 3
   },
   "file_extension": ".py",
   "mimetype": "text/x-python",
   "name": "python",
   "nbconvert_exporter": "python",
   "pygments_lexer": "ipython3",
   "version": "3.6.9"
  }
 },
 "nbformat": 4,
 "nbformat_minor": 2
}
